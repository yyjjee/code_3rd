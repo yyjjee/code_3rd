{
  "nbformat": 4,
  "nbformat_minor": 0,
  "metadata": {
    "colab": {
      "provenance": [],
      "authorship_tag": "ABX9TyOBjJbsK77MevxNl+9R2ZAF",
      "include_colab_link": true
    },
    "kernelspec": {
      "name": "python3",
      "display_name": "Python 3"
    },
    "language_info": {
      "name": "python"
    }
  },
  "cells": [
    {
      "cell_type": "markdown",
      "metadata": {
        "id": "view-in-github",
        "colab_type": "text"
      },
      "source": [
        "<a href=\"https://colab.research.google.com/github/yyjjee/code_3rd/blob/main/Untitled0.ipynb\" target=\"_parent\"><img src=\"https://colab.research.google.com/assets/colab-badge.svg\" alt=\"Open In Colab\"/></a>"
      ]
    },
    {
      "cell_type": "code",
      "execution_count": 1,
      "metadata": {
        "colab": {
          "base_uri": "https://localhost:8080/"
        },
        "id": "uOS-vtO8FH01",
        "outputId": "193b9697-6cca-42e6-e31a-dd0a1cec8e1b"
      },
      "outputs": [
        {
          "output_type": "stream",
          "name": "stdout",
          "text": [
            "로또 번호: 14 20 25 29 30 40 \n"
          ]
        }
      ],
      "source": [
        "import random\n",
        "\n",
        "# 로또 번호 생성 함수\n",
        "def generate_lotto_numbers():\n",
        "    lotto_numbers = []\n",
        "\n",
        "    # 1부터 45까지의 숫자 중에서 6개를 무작위로 선택하여 로또 번호 생성\n",
        "    while len(lotto_numbers) < 6:\n",
        "        number = random.randint(1, 45)\n",
        "\n",
        "        # 중복된 번호가 생성되지 않도록 확인\n",
        "        if number not in lotto_numbers:\n",
        "            lotto_numbers.append(number)\n",
        "\n",
        "    return lotto_numbers\n",
        "\n",
        "# 로또 번호 출력 함수\n",
        "def print_lotto_numbers(numbers):\n",
        "    print(\"로또 번호: \", end=\"\")\n",
        "\n",
        "    # 번호를 오름차순으로 정렬하여 출력\n",
        "    numbers.sort()\n",
        "    for number in numbers:\n",
        "        print(number, end=\" \")\n",
        "\n",
        "    print()\n",
        "\n",
        "# 메인 함수\n",
        "def main():\n",
        "    # 로또 번호 생성\n",
        "    lotto_numbers = generate_lotto_numbers()\n",
        "\n",
        "    # 로또 번호 출력\n",
        "    print_lotto_numbers(lotto_numbers)\n",
        "\n",
        "# 프로그램 실행\n",
        "if __name__ == \"__main__\":\n",
        "    main()\n"
      ]
    },
    {
      "cell_type": "code",
      "source": [
        "# 프로그래밍을 배우는 최적의 나이인지 확인하는 함수\n",
        "def is_optimal_age(age):\n",
        "    if age >= 0:\n",
        "        return True\n",
        "    else:\n",
        "        return False\n",
        "\n",
        "# 나이 입력받기\n",
        "age = int(input(\"나이를 입력하세요: \"))\n",
        "\n",
        "# 최적의 나이인지 확인\n",
        "if is_optimal_age(age):\n",
        "    print(\"프로그래밍을 배우는 데 최적의 나이입니다!\")\n",
        "else:\n",
        "    print(\"프로그래밍을 배우는 데에는 나이의 제한이 없습니다. 도전해보세요!\")"
      ],
      "metadata": {
        "colab": {
          "base_uri": "https://localhost:8080/"
        },
        "id": "nRsGvvVqGidJ",
        "outputId": "a885b5a5-b634-4ec6-a27a-dbe6c88ed6b5"
      },
      "execution_count": 4,
      "outputs": [
        {
          "output_type": "stream",
          "name": "stdout",
          "text": [
            "나이를 입력하세요: 20\n",
            "프로그래밍을 배우는 데 최적의 나이입니다!\n"
          ]
        }
      ]
    }
  ]
}