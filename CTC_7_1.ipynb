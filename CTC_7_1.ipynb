{
  "nbformat": 4,
  "nbformat_minor": 0,
  "metadata": {
    "colab": {
      "provenance": [],
      "authorship_tag": "ABX9TyORyQ+wU7nVunZLVnBfDOuD",
      "include_colab_link": true
    },
    "kernelspec": {
      "name": "python3",
      "display_name": "Python 3"
    },
    "language_info": {
      "name": "python"
    }
  },
  "cells": [
    {
      "cell_type": "markdown",
      "metadata": {
        "id": "view-in-github",
        "colab_type": "text"
      },
      "source": [
        "<a href=\"https://colab.research.google.com/github/yyjjee/code_3rd/blob/main/CTC_7_1.ipynb\" target=\"_parent\"><img src=\"https://colab.research.google.com/assets/colab-badge.svg\" alt=\"Open In Colab\"/></a>"
      ]
    },
    {
      "cell_type": "markdown",
      "source": [
        "1. 사용자로부터 3개의 값(x,y,z)을 입력받아서 각각 1씩 증가되고,출력되는 코드작성"
      ],
      "metadata": {
        "id": "1mgEwpo8HUJo"
      }
    },
    {
      "cell_type": "code",
      "execution_count": null,
      "metadata": {
        "colab": {
          "base_uri": "https://localhost:8080/"
        },
        "id": "XSZJG8X0G4IJ",
        "outputId": "5374e1cf-201c-4191-d87c-f06516127070"
      },
      "outputs": [
        {
          "output_type": "stream",
          "name": "stdout",
          "text": [
            "x의 값을 입력하시오.: 1\n",
            "y의 값을 입력하시오.: 2\n",
            "z의 값을 입력하시오.: 3\n",
            "x의 값은 2이며, y의 값은 3이고, z의 값은 4이다.\n"
          ]
        }
      ],
      "source": [
        "x = int(input(\"x의 값을 입력하시오.: \"))                            # 사용자로부터 x, y, z의 값을 입력받음\n",
        "y = int(input(\"y의 값을 입력하시오.: \"))\n",
        "z = int(input(\"z의 값을 입력하시오.: \"))\n",
        "x = x + 1                                                           # x, y, z 값에 1을 더함\n",
        "y = y + 1\n",
        "z = z + 1\n",
        "print(f'x의 값은 {x}이며, y의 값은 {y}이고, z의 값은 {z}이다.')     # 결과 출력"
      ]
    },
    {
      "cell_type": "markdown",
      "source": [
        "2.알바생의 시급과 시간을 계산하여 월급을 출력한 코드"
      ],
      "metadata": {
        "id": "K0IXDoKxJTER"
      }
    },
    {
      "cell_type": "code",
      "source": [
        "hours_worked = int(input(\"일한 시간을 입력하시오: \"))                                                 # 사용자로부터 일한 시간과 시급을 입력받음\n",
        "pay_rate = int(input(\"시급을 입력하시오(23기준 9620원): \"))\n",
        "monthly_pay = hours_worked * pay_rate                                                                 # 일한 시간과 시급을 곱하여 월급여를 계산\n",
        "print(f'일한시간은 {hours_worked}이고, 시급은 {pay_rate}원이며, 월급여는 {monthly_pay}원 입니다.')    # 결과 출력"
      ],
      "metadata": {
        "colab": {
          "base_uri": "https://localhost:8080/"
        },
        "id": "RztiesXyJr0o",
        "outputId": "bab94f68-a9b8-4aab-b7b5-8375a5b7a4be"
      },
      "execution_count": null,
      "outputs": [
        {
          "output_type": "stream",
          "name": "stdout",
          "text": [
            "일한 시간을 입력하시오: 10\n",
            "시급을 입력하시오(23기준 9620원): 9620\n",
            "일한시간은 10이고, 시급은 9620원이며, 월급여는 96200원 입니다.\n"
          ]
        }
      ]
    },
    {
      "cell_type": "markdown",
      "source": [
        "3.환율계산하는 코드작성\n",
        "  \n",
        "  - 원의 변수는 won\n",
        "  - 달러의 변수는 used\n",
        "  - 환전의 변수는 exchange"
      ],
      "metadata": {
        "id": "aPLm5viDL6hp"
      }
    },
    {
      "cell_type": "code",
      "source": [
        "won = int(input(\"환전할 금액을 입력(kor): \"))                                            # 사용자로부터 환전할 금액과 달러의 환율을 입력받음\n",
        "usd = int(input(\"현재 달러의 환율 입력(231031: 1372): \"))\n",
        "exchange = won // usd                                                                    # 환전할 금액을 달러로 환산\n",
        "print(f'환전할 금액은 {won}이며, 달러 금액은 {usd}이고, 환전금액은 {exchange}입니다.')   # 결과 출력"
      ],
      "metadata": {
        "colab": {
          "base_uri": "https://localhost:8080/"
        },
        "id": "wbupYxrCK-Xx",
        "outputId": "221e10d2-09f8-42b7-8bc6-7d750265cbca"
      },
      "execution_count": null,
      "outputs": [
        {
          "output_type": "stream",
          "name": "stdout",
          "text": [
            "환전할 금액을 입력(kor): 5000\n",
            "현재 달러의 환율 입력(231031: 1372): 1372\n",
            "환전할 금액은 5000이며, 달러 금액은 1372이고, 환전금액은 3입니다.\n"
          ]
        }
      ]
    },
    {
      "cell_type": "markdown",
      "source": [
        "4.화씨(fahrenheit)를 섭씨(celcius)로 변환하는 코드작성"
      ],
      "metadata": {
        "id": "KTvM4jmtN_ig"
      }
    },
    {
      "cell_type": "code",
      "source": [
        "fahrenheit = int(input(\"화씨온도를 입력하시오.: \"))                # 사용자로부터 화씨 온도를 입력받음\n",
        "celcius = (fahrenheit - 32)/1.8                                    # 화씨를 섭씨로 변환\n",
        "print(f'화씨온도는 {fahrenheit}, 섭씨 {celcius}도 입니다.')        # 결과 출력"
      ],
      "metadata": {
        "colab": {
          "base_uri": "https://localhost:8080/"
        },
        "id": "-PX2MM31Omgv",
        "outputId": "a7390395-5389-428d-c7c8-103d1918064a"
      },
      "execution_count": null,
      "outputs": [
        {
          "output_type": "stream",
          "name": "stdout",
          "text": [
            "화씨온도를 입력하시오.: 100\n",
            "화씨온도는 100, 섭씨 37.77777777777778도 입니다.\n"
          ]
        }
      ]
    },
    {
      "cell_type": "code",
      "source": [
        "celcius = float(input(\"섭씨온도를 입력하시오.: \"))                # 사용자로부터 섭씨 온도를 입력받음\n",
        "fahrenheit = (celcius * 1.8) + 32                                 # 섭씨를 화씨로 변환\n",
        "print(f'섭씨온도는 {celcius}도는, 화씨 {fahrenheit}도 입니다.')   # 결과 출력"
      ],
      "metadata": {
        "colab": {
          "base_uri": "https://localhost:8080/"
        },
        "id": "h0kAnRdDPwhf",
        "outputId": "b8386d80-700e-4c68-ac5a-270b3ccecdf0"
      },
      "execution_count": null,
      "outputs": [
        {
          "output_type": "stream",
          "name": "stdout",
          "text": [
            "섭씨온도를 입력하시오.: 37.77777777777778\n",
            "섭씨온도는 37.77777777777778도는, 화씨 100.0도 입니다.\n"
          ]
        }
      ]
    },
    {
      "cell_type": "markdown",
      "source": [
        "5.사용자로부터 2개의 정수를 받아서 합계를 출력"
      ],
      "metadata": {
        "id": "xHp_71f1U2KX"
      }
    },
    {
      "cell_type": "code",
      "source": [
        "print(\"정수 2개를 입력하시오.\")              # 사용자로부터 정수 2개를 입력받음\n",
        "x = int(input(\"x를 입력하시오. \"))\n",
        "y = int(input(\"y를 입력하시오. \"))\n",
        "sum = x + y                                  # 두 정수의 합을 계산\n",
        "print(sum)                                   # 합을 출력"
      ],
      "metadata": {
        "colab": {
          "base_uri": "https://localhost:8080/"
        },
        "id": "O5Goa2VRVB-_",
        "outputId": "debfc75c-7ea5-49b0-f9a3-165baaf0afdb"
      },
      "execution_count": null,
      "outputs": [
        {
          "output_type": "stream",
          "name": "stdout",
          "text": [
            "정수 2개를 입력하시오.\n",
            "x를 입력하시오. 5\n",
            "y를 입력하시오. 6\n",
            "11\n"
          ]
        }
      ]
    },
    {
      "cell_type": "markdown",
      "source": [
        "6.부가세를 계산하시오."
      ],
      "metadata": {
        "id": "Uei0PXqbYiz-"
      }
    },
    {
      "cell_type": "code",
      "source": [
        "price = int(input(\"상품의 가격을 입력하시오.: \"))      # 사용자로부터 상품의 가격을 입력받음\n",
        "vat = price * 0.1                                      # 부가가치세를 계산\n",
        "print(vat)                                             # 부가가치세를 출력"
      ],
      "metadata": {
        "colab": {
          "base_uri": "https://localhost:8080/"
        },
        "id": "WSU5ItoQYqny",
        "outputId": "737af496-6e04-4a08-c35b-b8a3217e1a2b"
      },
      "execution_count": null,
      "outputs": [
        {
          "output_type": "stream",
          "name": "stdout",
          "text": [
            "상품의 가격을 입력하시오.: 5632\n",
            "563.2\n"
          ]
        }
      ]
    }
  ]
}