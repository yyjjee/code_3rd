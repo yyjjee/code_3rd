{
  "nbformat": 4,
  "nbformat_minor": 0,
  "metadata": {
    "colab": {
      "provenance": [],
      "authorship_tag": "ABX9TyN9dIx1dDOXeRIOsW2jzLVh",
      "include_colab_link": true
    },
    "kernelspec": {
      "name": "python3",
      "display_name": "Python 3"
    },
    "language_info": {
      "name": "python"
    }
  },
  "cells": [
    {
      "cell_type": "markdown",
      "metadata": {
        "id": "view-in-github",
        "colab_type": "text"
      },
      "source": [
        "<a href=\"https://colab.research.google.com/github/yyjjee/code_3rd/blob/main/py231019.ipynb\" target=\"_parent\"><img src=\"https://colab.research.google.com/assets/colab-badge.svg\" alt=\"Open In Colab\"/></a>"
      ]
    },
    {
      "cell_type": "markdown",
      "source": [
        "1. To-Do List를 작성하시오.\n",
        "  - 2023년 10월 19일\n",
        "  - (1) 9:20 도서관에서 책 빌리기\n",
        "  - (2) 11:10 컴퓨팅적사고와 기초코딩 수업\n",
        "  - (3) 13:00 점심식사\n",
        "  - (4) 14:10 교양수업\n",
        "  - (5) 16:00 파이썬 공부 및 레포트 작성\n",
        "  - (6) 17:40 저녁식사 및 집안일 돕기\n",
        "  - (7) 19:00 LOL하기"
      ],
      "metadata": {
        "id": "qVZZbJo1uYxE"
      }
    },
    {
      "cell_type": "code",
      "source": [
        "print(\"To-Do List를 작성하시오.\")                       # To-Do List 출력\n",
        "print(\"2023년 10월 19일\")                               # 날짜 출력\n",
        "print(\"(1) 9:20 도서관에서 책 빌리기\")                  # 일정 출력\n",
        "print(\"(2) 11:10 컴퓨팅적사고와 기초코딩 수업\")\n",
        "print(\"(3) 13:00 점심식사\")\n",
        "print(\"(4) 14:10 교양수업\")\n",
        "print(\"(5) 16:00 파이썬 공부 및 레포트 작성\")\n",
        "print(\"(6) 17:40 저녁식사 및 집안일 돕기\")\n",
        "print(\"(7) 19:00 LOL하기\")"
      ],
      "metadata": {
        "colab": {
          "base_uri": "https://localhost:8080/"
        },
        "id": "21eRkbXkx1XI",
        "outputId": "6aff960f-2234-4264-fb90-402c5f7af5f6"
      },
      "execution_count": null,
      "outputs": [
        {
          "output_type": "stream",
          "name": "stdout",
          "text": [
            "To-Do List를 작성하시오.\n",
            "2023년 10월 19일\n",
            "(1) 9:20 도서관에서 책 빌리기\n",
            "(2) 11:10 컴퓨팅적사고와 기초코딩 수업\n",
            "(3) 13:00 점심식사\n",
            "(4) 14:10 교양수업\n",
            "(5) 16:00 파이썬 공부 및 레포트 작성\n",
            "(6) 17:40 저녁식사 및 집안일 돕기\n",
            "(7) 19:00 LOL하기\n"
          ]
        }
      ]
    },
    {
      "cell_type": "markdown",
      "source": [],
      "metadata": {
        "id": "adgao-Dvx05n"
      }
    },
    {
      "cell_type": "markdown",
      "source": [
        "2. 인사말 출력하기\n",
        "  - 식사 하셨습니까? 행님"
      ],
      "metadata": {
        "id": "umz4wBWqwWUy"
      }
    },
    {
      "cell_type": "code",
      "source": [
        "print(\"2.인사말 출력하기\")       # 인사말 출력하기\n",
        "print(\"식사 하셨습니까? 행님\")"
      ],
      "metadata": {
        "colab": {
          "base_uri": "https://localhost:8080/"
        },
        "id": "FqBHZA5ox2aZ",
        "outputId": "744d2e69-b401-422e-e6ee-ab8165c2437e"
      },
      "execution_count": null,
      "outputs": [
        {
          "output_type": "stream",
          "name": "stdout",
          "text": [
            "2.인사말 출력하기\n",
            "식사 하셨습니까? 행님\n"
          ]
        }
      ]
    },
    {
      "cell_type": "markdown",
      "source": [
        "3. 학생 4명의 국어점수를 입력받아서 아래와 같이 출력하시오.\n",
        "  - 박보검: 90점\n",
        "  - 션    : 92점\n",
        "  - 도룡용: 80점\n",
        "  - 차은우: 99점\n",
        "  - 국어 점수 순위\n",
        "  - 1등 차은우\n",
        "  - 2등 션\n",
        "  - 3등 박보검\n",
        "  - 4등 도롱용"
      ],
      "metadata": {
        "id": "Q2xwt1Rkwv5h"
      }
    },
    {
      "cell_type": "code",
      "source": [
        "n1 = input(\"박보검 점수\")             # 사용자로부터 박보검, 션, 도롱용, 차은우의 점수를 입력받음\n",
        "n2 = input(\"션 점수\")\n",
        "n3 = input(\"도롱용 점수\")\n",
        "n4 = input(\"차은우 점수\")\n",
        "print(\"1등 차은우\",n4,\"점\")           # 입력받은 점수를 바탕으로 등수를 출력\n",
        "print(\"2등 션\",n2,\"점\")\n",
        "print(\"3등 박보검\",n1,\"점\")\n",
        "print(\"4등 도롱용\",n3,\"점\")"
      ],
      "metadata": {
        "colab": {
          "base_uri": "https://localhost:8080/"
        },
        "id": "eFEgeh99x2-R",
        "outputId": "0f687354-8ac4-45fd-a373-86a86010c3cc"
      },
      "execution_count": null,
      "outputs": [
        {
          "output_type": "stream",
          "name": "stdout",
          "text": [
            "박보검 점수:90\n",
            "션 점수:92\n",
            "도롱용 점수:80\n",
            "차은우 점수:99\n",
            "1등 차은우 :99 점\n",
            "2등 션 :92 점\n",
            "3등 박보검 :90 점\n",
            "4등 도롱용 :80 점\n"
          ]
        }
      ]
    },
    {
      "cell_type": "markdown",
      "source": [
        "4. 두개의 점수를 입력받아서 합계와 평균을 출력하시오."
      ],
      "metadata": {
        "id": "_3kImGYqxl0h"
      }
    },
    {
      "cell_type": "code",
      "source": [
        "n1 = int(input(\"N1의 값을 입력하시오. \"))        # 사용자로부터 N1과 N2의 값을 입력받음\n",
        "n2 = int(input(\"N2의 값을 입력하시오. \"))\n",
        "total = n1 + n2                                  # 입력받은 두 수의 합과 평균을 계산\n",
        "average = total / 2\n",
        "print(average)                                   # 평균을 출력"
      ],
      "metadata": {
        "colab": {
          "base_uri": "https://localhost:8080/"
        },
        "id": "HXvUvmIzx3zY",
        "outputId": "e6c3d89c-5a29-40b2-e2b6-607be4f8a03b"
      },
      "execution_count": null,
      "outputs": [
        {
          "output_type": "stream",
          "name": "stdout",
          "text": [
            "N1의 값을 입력하시오. 92\n",
            "N2의 값을 입력하시오. 90\n",
            "91.0\n"
          ]
        }
      ]
    }
  ]
}