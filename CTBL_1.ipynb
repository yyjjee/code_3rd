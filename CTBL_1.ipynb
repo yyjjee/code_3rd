{
  "nbformat": 4,
  "nbformat_minor": 0,
  "metadata": {
    "colab": {
      "provenance": [],
      "authorship_tag": "ABX9TyOIoiF6zwIaHHdBrVUZoA6Z",
      "include_colab_link": true
    },
    "kernelspec": {
      "name": "python3",
      "display_name": "Python 3"
    },
    "language_info": {
      "name": "python"
    }
  },
  "cells": [
    {
      "cell_type": "markdown",
      "metadata": {
        "id": "view-in-github",
        "colab_type": "text"
      },
      "source": [
        "<a href=\"https://colab.research.google.com/github/yyjjee/code_3rd/blob/main/CTBL_1.ipynb\" target=\"_parent\"><img src=\"https://colab.research.google.com/assets/colab-badge.svg\" alt=\"Open In Colab\"/></a>"
      ]
    },
    {
      "cell_type": "markdown",
      "source": [
        "1.학생으로부터 성적을 입력받아 합격유무를 출력하는 코드 작성\n",
        "  - 사용변수: grade\n",
        "  - 사용수식: grade>=70:"
      ],
      "metadata": {
        "id": "1ULgWLes08nV"
      }
    },
    {
      "cell_type": "code",
      "source": [
        "Grade = int(input(\"성적입력: \"))         # 사용자로부터 성적을 입력받음\n",
        "if Grade >= 70:                          # 입력받은 성적에 따라 합격 여부 출력\n",
        "  print(\"70점 이상이므로 합격\")\n",
        "else:\n",
        "  print(\"70점 이하는 불합격\")"
      ],
      "metadata": {
        "colab": {
          "base_uri": "https://localhost:8080/"
        },
        "id": "sXY1gHzb1SjO",
        "outputId": "cc927f2c-5d38-4e61-9a47-eec750cf2bd5"
      },
      "execution_count": null,
      "outputs": [
        {
          "output_type": "stream",
          "name": "stdout",
          "text": [
            "성적입력: 80\n",
            "70점 이상이므로 합격\n"
          ]
        }
      ]
    },
    {
      "cell_type": "markdown",
      "source": [
        "2.쇼핑몰의 배송료를 계산하는 코드 작성\n",
        " - 변수명 : price, shipping_cost\n",
        " - 수식 : price >= 20000\n",
        " - shipping_cost = 3000"
      ],
      "metadata": {
        "id": "MYRFkOhP3rAP"
      }
    },
    {
      "cell_type": "code",
      "source": [
        "price = int(input(\"구입금액 입력: \"))                     # 사용자로부터 구입금액을 입력받음\n",
        "if price >= 20000:                                        # 입력받은 구입금액에 따라 배송료를 설정하고 출력\n",
        "  shipping_cost = 0\n",
        "  print(f'구입금액이 {price}원 이상입니다.')\n",
        "else:\n",
        "  shipping_cost = 3000\n",
        "  print(\"구입금액이 2만원 이하입니다.\")\n",
        "print(f'회원님의 배송료는 {shipping_cost}입니다.')        # 배송료 출력"
      ],
      "metadata": {
        "colab": {
          "base_uri": "https://localhost:8080/"
        },
        "id": "d1JWNoYz40SQ",
        "outputId": "ced98dd8-d8e7-4671-93af-6c508dbf0afb"
      },
      "execution_count": null,
      "outputs": [
        {
          "output_type": "stream",
          "name": "stdout",
          "text": [
            "구입금액 입력: 20000\n",
            "구입금액이 20000원 이상입니다.\n",
            "회원님의 배송료는 0입니다.\n"
          ]
        }
      ]
    },
    {
      "cell_type": "markdown",
      "source": [
        "3. 근무시간에 따라 초과근무와 정상근무를 판별하는 코드작성\n",
        "  - 변수 : work_hour\n",
        "  - 수식 : >=,기준시간:72시간"
      ],
      "metadata": {
        "id": "JfKkBgkn7-QA"
      }
    },
    {
      "cell_type": "code",
      "source": [
        "work_hour = int(input(\"근무시간 입력: \"))          # 사용자로부터 근무시간을 입력받음\n",
        "if work_hour >= 72:                                # 입력받은 근무시간에 따라 근무 상태를 출력\n",
        " print(\"조과근무하였습니다.\")\n",
        "else:\n",
        "  print(\"정상근무하였습니다.\")"
      ],
      "metadata": {
        "colab": {
          "base_uri": "https://localhost:8080/"
        },
        "id": "U2uEvOhr8djQ",
        "outputId": "24fc1f4a-b46d-47f8-9ce9-2fa0eecce10d"
      },
      "execution_count": null,
      "outputs": [
        {
          "output_type": "stream",
          "name": "stdout",
          "text": [
            "근무시간 입력: 30\n",
            "정상근무하였습니다.\n"
          ]
        }
      ]
    },
    {
      "cell_type": "markdown",
      "source": [
        "4.점수를 입력받아서 짝수인지 홀수인지 판별하는 코드 작성\n",
        "  - 변수 : num\n",
        "  - 수식 : (num % 2) != 0:"
      ],
      "metadata": {
        "id": "weZDftYs-Mae"
      }
    },
    {
      "cell_type": "code",
      "source": [
        "num = int(input(\"정수를 입력하시오: \"))             # 사용자로부터 정수를 입력받음\n",
        "if (num % 2) != 0:                                  # 입력받은 정수가 홀수인지 짝수인지 판단하여 출력\n",
        "  print(\"홀수입니다.\")\n",
        "else:\n",
        "  print(\"짝수입니다.\")"
      ],
      "metadata": {
        "colab": {
          "base_uri": "https://localhost:8080/"
        },
        "id": "wOOw0Lg5-vN-",
        "outputId": "0e3decca-212b-4c07-8466-d872df620490"
      },
      "execution_count": null,
      "outputs": [
        {
          "output_type": "stream",
          "name": "stdout",
          "text": [
            "정수를 입력하시오: 4\n",
            "짝수입니다.\n"
          ]
        }
      ]
    },
    {
      "cell_type": "markdown",
      "source": [
        "5. 사용자의 이름과 나이를 입력받고,답변하는 코드작성\n",
        "  - 입력 : 성명 - name\n",
        "  - 입력 : 나이 - age\n",
        "  - 수식 : if age <= 20:\n",
        "\n",
        "  최종 출력물\n",
        "  - 이름을 입력하시오.: ***\n",
        "  - 나이를 입력하시오.: **\n",
        "  - (1) 프로그램을 배우는 최적의 나이입니다.\n",
        "  - (2) 아직도 늦지 않았습니다. 도전정신"
      ],
      "metadata": {
        "id": "4_zefI-LAqV3"
      }
    },
    {
      "cell_type": "code",
      "source": [
        "name = input(\"이름을 입력하시오.: \")                         # 사용자로부터 이름을 입력받음\n",
        "age = int(input(\"나이를 입력하시오.: \"))                     # 사용자로부터 나이를 입력받음\n",
        "if age <= 20:                                                # 입력받은 나이에 따라 메시지 출력\n",
        "  print(\"프로그램을 배우는 최적의 나이입니다.\")\n",
        "else:\n",
        "  print(\"아직도 늦지 않았습니다. 도전정신\")"
      ],
      "metadata": {
        "colab": {
          "base_uri": "https://localhost:8080/"
        },
        "id": "C2OZLJbPBc9Y",
        "outputId": "39281f79-8415-438a-9cd3-4ded829594e1"
      },
      "execution_count": null,
      "outputs": [
        {
          "output_type": "stream",
          "name": "stdout",
          "text": [
            "이름을 입력하시오.: 유정은\n",
            "나이를 입력하시오.: 20\n",
            "프로그램을 배우는 최적의 나이입니다.\n"
          ]
        }
      ]
    }
  ]
}