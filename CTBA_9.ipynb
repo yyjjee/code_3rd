{
  "nbformat": 4,
  "nbformat_minor": 0,
  "metadata": {
    "colab": {
      "provenance": [],
      "authorship_tag": "ABX9TyNtzEHqbFdX4hzxHwemHwtb",
      "include_colab_link": true
    },
    "kernelspec": {
      "name": "python3",
      "display_name": "Python 3"
    },
    "language_info": {
      "name": "python"
    }
  },
  "cells": [
    {
      "cell_type": "markdown",
      "metadata": {
        "id": "view-in-github",
        "colab_type": "text"
      },
      "source": [
        "<a href=\"https://colab.research.google.com/github/yyjjee/code_3rd/blob/main/CTBA_9.ipynb\" target=\"_parent\"><img src=\"https://colab.research.google.com/assets/colab-badge.svg\" alt=\"Open In Colab\"/></a>"
      ]
    },
    {
      "cell_type": "markdown",
      "source": [
        "1. 두가지 이상의 선택, 다방향 선택구조 코딩\n",
        "  - 배송료처리 3가지로 작성\n",
        "  - 변수:price, 가격 10만원이상 0원, 2만원이상 3000원, 그외 5천원"
      ],
      "metadata": {
        "id": "sgIEKKyJMuPk"
      }
    },
    {
      "cell_type": "code",
      "source": [
        "print(\"배송료를 계산합니다.\")\n",
        "print(\"#\" * 30)\n",
        "price = int(input(\"구입금액 입력: \"))                  # 사용자로부터 구입금액을 입력받음\n",
        "if price >= 100000:                                    # 입력받은 구입금액에 따라 배송료를 계산\n",
        "  shipping_cost = 0\n",
        "else:\n",
        "  if price >= 20000:\n",
        "    shipping_cost = 3000\n",
        "  else:\n",
        "    shipping_cost = 5000\n",
        "print(f'배송료는 {shipping_cost}원 입니다.')            # 배송료 출력"
      ],
      "metadata": {
        "colab": {
          "base_uri": "https://localhost:8080/"
        },
        "id": "mDPbVpcMNG0t",
        "outputId": "720bf966-d339-4225-e347-fd8b002117e3"
      },
      "execution_count": null,
      "outputs": [
        {
          "output_type": "stream",
          "name": "stdout",
          "text": [
            "배송료를 계산합니다.\n",
            "##############################\n",
            "구입금액 입력: 19000\n",
            "배송료는 5000원 입니다.\n"
          ]
        }
      ]
    },
    {
      "cell_type": "markdown",
      "source": [
        "2. 환영합니다. 5번 출력, 10번 출력, 30번 출력\n"
      ],
      "metadata": {
        "id": "dALPzdnPP0aK"
      }
    },
    {
      "cell_type": "code",
      "source": [
        " print(\"환영합니다.\")\n",
        " print(\"환영합니다.\")\n",
        " print(\"환영합니다.\")\n",
        " print(\"환영합니다.\")"
      ],
      "metadata": {
        "colab": {
          "base_uri": "https://localhost:8080/"
        },
        "id": "AVgFLbUNQFJY",
        "outputId": "3dedd342-4977-41fa-b027-e0198a8b656f"
      },
      "execution_count": null,
      "outputs": [
        {
          "output_type": "stream",
          "name": "stdout",
          "text": [
            "환영합니다.\n",
            "환영합니다.\n",
            "환영합니다.\n",
            "환영합니다.\n"
          ]
        }
      ]
    },
    {
      "cell_type": "code",
      "source": [
        "print(\"환영합니다.\\n\" * 5)      #메시지가 5번 출력됩니다"
      ],
      "metadata": {
        "colab": {
          "base_uri": "https://localhost:8080/"
        },
        "id": "MgyWJNXlSImo",
        "outputId": "566c9fe5-e1e7-426d-c241-7986885efa1e"
      },
      "execution_count": null,
      "outputs": [
        {
          "output_type": "stream",
          "name": "stdout",
          "text": [
            "환영합니다.\n",
            "환영합니다.\n",
            "환영합니다.\n",
            "환영합니다.\n",
            "환영합니다.\n",
            "\n"
          ]
        }
      ]
    },
    {
      "cell_type": "code",
      "source": [
        "count = 1\n",
        "while count <= 5:\n",
        "   #print(\"(\",count,\")\", \"환영합니다.\")       # 현재 count 값과 \"환영합니다.\"라는 메시지를 출력\n",
        "   print(F'({count})', \"환영합니다.\")\n",
        "   #count = count + 1                         # 변수의 값을 1 증가\n",
        "   count += 1"
      ],
      "metadata": {
        "colab": {
          "base_uri": "https://localhost:8080/"
        },
        "id": "h-eaJE78SlCS",
        "outputId": "a1363ef6-1e67-4743-e103-4e63e86d1d17"
      },
      "execution_count": null,
      "outputs": [
        {
          "output_type": "stream",
          "name": "stdout",
          "text": [
            "(1) 환영합니다.\n",
            "(2) 환영합니다.\n",
            "(3) 환영합니다.\n",
            "(4) 환영합니다.\n",
            "(5) 환영합니다.\n"
          ]
        }
      ]
    },
    {
      "cell_type": "markdown",
      "source": [
        "3. 0부터 9까지 출력하는 코드 작성\n",
        "  - 변수:x"
      ],
      "metadata": {
        "id": "2F9il__nUtPE"
      }
    },
    {
      "cell_type": "code",
      "source": [
        "x = 0                       # x 변수는 초기값으로 0을 가지며, 현재 출력할 숫자를 나타내는 변수\n",
        "while x < 10:               # x 변수가 10 미만인 동안 아래의 코드 블록을 반복 실행\n",
        "  print(x, end=' ')         # 현재 x 값을 출력하고, 출력 후 줄바꿈 대신 공백 문자를 출력\n",
        "  x += 1                    # x 변수의 값을 1 증가시킵니다"
      ],
      "metadata": {
        "colab": {
          "base_uri": "https://localhost:8080/"
        },
        "id": "V9p0B28rU4hC",
        "outputId": "a0309e03-3d0d-484b-ca9a-6ddada789fd7"
      },
      "execution_count": null,
      "outputs": [
        {
          "output_type": "stream",
          "name": "stdout",
          "text": [
            "0 1 2 3 4 5 6 7 8 9 "
          ]
        }
      ]
    },
    {
      "cell_type": "markdown",
      "source": [
        "4. 1부터 10까지 정수의 합을 게산하여 출력하는 코드"
      ],
      "metadata": {
        "id": "LY2I4bMpYe37"
      }
    },
    {
      "cell_type": "code",
      "source": [
        "x = 1\n",
        "total = 0\n",
        "while x <= 10:\n",
        "  total = total + x\n",
        "  x += 1                  # 변수의 값을 1 증가\n",
        "print(total)"
      ],
      "metadata": {
        "colab": {
          "base_uri": "https://localhost:8080/"
        },
        "id": "KdbBwzF5YlB1",
        "outputId": "906e1dd2-14ee-44ff-fbf4-578db43dfcd7"
      },
      "execution_count": null,
      "outputs": [
        {
          "output_type": "stream",
          "name": "stdout",
          "text": [
            "55\n"
          ]
        }
      ]
    },
    {
      "cell_type": "code",
      "source": [
        "x = 1\n",
        "while x <= 10:\n",
        "  print(x)         # 현재 x 값을 출력\n",
        "  x += 1           # x 변수의 값을 1 증가"
      ],
      "metadata": {
        "colab": {
          "base_uri": "https://localhost:8080/"
        },
        "id": "vHJLDGvyY4Eg",
        "outputId": "b7952b0e-fa1a-420f-a40d-3f08e978f1a8"
      },
      "execution_count": null,
      "outputs": [
        {
          "output_type": "stream",
          "name": "stdout",
          "text": [
            "1\n",
            "2\n",
            "3\n",
            "4\n",
            "5\n",
            "6\n",
            "7\n",
            "8\n",
            "9\n",
            "10\n"
          ]
        }
      ]
    },
    {
      "cell_type": "markdown",
      "source": [
        "4. 3--6-9 게임(3의 배수 판단): 3의 배수를 3으로 나누면 나머지가 0이 되므로(i mod 3)의 값이 0이면 박수를 출력, 아니면 숫자를 출력해주는 코드작성"
      ],
      "metadata": {
        "id": "wqhsv9p-VmjR"
      }
    },
    {
      "cell_type": "code",
      "source": [
        "i = 1                          # 변수 i는 1로 선언\n",
        "while i <= 30:                 # 반복문 while사용해서 i가 30보다 작거나 같을때\n",
        "  if i % 3 == 0:               # 만약 i값을 3으로 나눈 나머지가 0이면\n",
        "    print(\"박수\", end=' ')     # 박수를 출력하고 공백을 하나 만듦\n",
        "  else:                        # 위의 것이 아니면,\n",
        "    print(i, end=' ')          # i값만 출력하고 공백 하나 만듦\n",
        "  i += 1                       # 변수 i값에 i와 1을 더해서 다시 변수 i에 선언"
      ],
      "metadata": {
        "colab": {
          "base_uri": "https://localhost:8080/"
        },
        "id": "lbNLQsAYWLvX",
        "outputId": "c6baacff-b26c-4ec1-8049-099b52c906ea"
      },
      "execution_count": null,
      "outputs": [
        {
          "output_type": "stream",
          "name": "stdout",
          "text": [
            "1 2 박수 4 5 박수 7 8 박수 10 11 박수 13 14 박수 16 17 박수 19 20 박수 22 23 박수 25 26 박수 28 29 박수 "
          ]
        }
      ]
    },
    {
      "cell_type": "code",
      "source": [
        "for num in range(1, 11):       # 1부터 11까지의 숫자를 반복\n",
        "  if num % 3 == 0:             # 숫자(num)를 3으로 나눈 나머지가 0인 경우\n",
        "    print(\"박수\", end=' ')     # 박수를 출력하고 공백 만듦\n",
        "  else:                        # 그게 아니면\n",
        "    print(num, end=' ')        # 숫자만 출력하고 공백 만듦"
      ],
      "metadata": {
        "colab": {
          "base_uri": "https://localhost:8080/"
        },
        "id": "02xKNM-5Zk8x",
        "outputId": "5f735bc1-0456-4b08-a3c3-560f7c174b0b"
      },
      "execution_count": null,
      "outputs": [
        {
          "output_type": "stream",
          "name": "stdout",
          "text": [
            "1 2 박수 4 5 박수 7 8 박수 10 "
          ]
        }
      ]
    },
    {
      "cell_type": "markdown",
      "source": [
        "6. 팩토리얼 계산하는 코드작성"
      ],
      "metadata": {
        "id": "1RdgONyMaeIi"
      }
    },
    {
      "cell_type": "code",
      "source": [
        "i = 4                                     #i 변수가 4부터 1까지 반복\n",
        "factorial = 1\n",
        "while i >= 1:\n",
        "  factorial = factorial * i               #factorial 값에 i를 곱하여 업데이트\n",
        "  i -= 1                                  #i 변수의 값을 1 감소\n",
        "print(factorial)                          #factorial 변수의 값을 출력"
      ],
      "metadata": {
        "colab": {
          "base_uri": "https://localhost:8080/"
        },
        "id": "YIEP2BlWailZ",
        "outputId": "c3e37b98-a465-4db2-9845-68b3dbde59d6"
      },
      "execution_count": null,
      "outputs": [
        {
          "output_type": "stream",
          "name": "stdout",
          "text": [
            "24\n"
          ]
        }
      ]
    },
    {
      "cell_type": "code",
      "source": [
        "num = int(input(\"팩토리얼 값입력: \"))             # 입력받은 숫자는 num 변수에 저장\n",
        "factorial = 1\n",
        "while num >= 1:\n",
        "  factorial = factorial * num                     #factorial 값에 num을 곱하여 업데이트\n",
        "  num -= 1                                        #num 변수의 값을 1 감소\n",
        "print(\"계산된 팩토리얼 값은 :\", factorial)        #최종적으로 \"계산된 팩토리얼 값은:\"과 함께 factorial 변수의 값을 출력"
      ],
      "metadata": {
        "colab": {
          "base_uri": "https://localhost:8080/"
        },
        "id": "Sbwc55zybfWF",
        "outputId": "9d3b6959-0d1b-437f-e455-a6231a4e9243"
      },
      "execution_count": null,
      "outputs": [
        {
          "output_type": "stream",
          "name": "stdout",
          "text": [
            "팩토리얼 값입력: 5\n",
            "계산된 팩토리얼 값은 : 120\n"
          ]
        }
      ]
    }
  ]
}